{
 "cells": [
  {
   "cell_type": "code",
   "execution_count": 6,
   "metadata": {},
   "outputs": [
    {
     "name": "stderr",
     "output_type": "stream",
     "text": [
      "18it [00:00, 174.52it/s]\n"
     ]
    },
    {
     "data": {
      "text/plain": [
       "[<allennlp.data.instance.Instance at 0x7fae1b983908>,\n",
       " <allennlp.data.instance.Instance at 0x7fae1b933ba8>,\n",
       " <allennlp.data.instance.Instance at 0x7fae1b942390>,\n",
       " <allennlp.data.instance.Instance at 0x7fae1b8e3fd0>,\n",
       " <allennlp.data.instance.Instance at 0x7fae1b86b358>,\n",
       " <allennlp.data.instance.Instance at 0x7fae1b86d470>,\n",
       " <allennlp.data.instance.Instance at 0x7fae1b763278>,\n",
       " <allennlp.data.instance.Instance at 0x7fae1b767128>,\n",
       " <allennlp.data.instance.Instance at 0x7fae1b4dd208>,\n",
       " <allennlp.data.instance.Instance at 0x7fae1b4e5358>,\n",
       " <allennlp.data.instance.Instance at 0x7fae1b4f4b38>,\n",
       " <allennlp.data.instance.Instance at 0x7fae1b48a048>,\n",
       " <allennlp.data.instance.Instance at 0x7fae1b49bda0>,\n",
       " <allennlp.data.instance.Instance at 0x7fae1b4a3860>,\n",
       " <allennlp.data.instance.Instance at 0x7fae1b450e80>,\n",
       " <allennlp.data.instance.Instance at 0x7fae1b460cf8>,\n",
       " <allennlp.data.instance.Instance at 0x7fae1b4756d8>,\n",
       " <allennlp.data.instance.Instance at 0x7fae1b477c88>]"
      ]
     },
     "execution_count": 6,
     "metadata": {},
     "output_type": "execute_result"
    }
   ],
   "source": [
    "import DatasetReader\n",
    "import RNNTagger\n",
    "\n",
    "reader = DatasetReader.PosDatasetReader()\n",
    "reader.read('data/names/*.txt')"
   ]
  },
  {
   "cell_type": "code",
   "execution_count": null,
   "metadata": {},
   "outputs": [],
   "source": []
  },
  {
   "cell_type": "code",
   "execution_count": null,
   "metadata": {},
   "outputs": [],
   "source": []
  }
 ],
 "metadata": {
  "kernelspec": {
   "display_name": "Python 3",
   "language": "python",
   "name": "python3"
  },
  "language_info": {
   "codemirror_mode": {
    "name": "ipython",
    "version": 3
   },
   "file_extension": ".py",
   "mimetype": "text/x-python",
   "name": "python",
   "nbconvert_exporter": "python",
   "pygments_lexer": "ipython3",
   "version": "3.6.8"
  }
 },
 "nbformat": 4,
 "nbformat_minor": 2
}
